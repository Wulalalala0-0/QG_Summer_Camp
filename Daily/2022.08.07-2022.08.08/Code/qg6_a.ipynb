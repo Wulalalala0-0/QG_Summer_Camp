{
 "cells": [
  {
   "cell_type": "code",
   "execution_count": 67,
   "metadata": {
    "collapsed": true
   },
   "outputs": [],
   "source": [
    "import matplotlib.pyplot as plt\n",
    "import numpy as np"
   ]
  },
  {
   "cell_type": "code",
   "execution_count": 68,
   "outputs": [
    {
     "data": {
      "text/plain": "<Figure size 720x720 with 1 Axes>",
      "image/png": "[encoded data removed]"
     },
     "metadata": {
      "needs_background": "light"
     },
     "output_type": "display_data"
    }
   ],
   "source": [
    "num = 400\n",
    "delta = 1 / num\n",
    "d = 0.1\n",
    "dot_mat = np.zeros((2, num))\n",
    "# 测试Y型即可\n",
    "for t in range(num):\n",
    "    x = np.random.uniform(0, 10)\n",
    "    y = np.random.uniform(0, 10)\n",
    "    dot_mat[0][t] = x\n",
    "    dot_mat[1][t] = y\n",
    "plt.figure(figsize=(10, 10))\n",
    "plt.xlim((0, 10))\n",
    "plt.ylim((0, 10))\n",
    "for t in range(num):\n",
    "    plt.scatter(dot_mat[0][t], dot_mat[1][t], c='red')\n",
    "plt.show()"
   ],
   "metadata": {
    "collapsed": false,
    "pycharm": {
     "name": "#%%\n"
    }
   }
  },
  {
   "cell_type": "code",
   "execution_count": 69,
   "outputs": [],
   "source": [
    "def dst(x1, x2, y1, y2):\n",
    "    return ((x1 - x2) ** 2 + (y1 - y2) ** 2) ** 0.5\n",
    "\n",
    "\n",
    "rc = 1"
   ],
   "metadata": {
    "collapsed": false,
    "pycharm": {
     "name": "#%%\n"
    }
   }
  },
  {
   "cell_type": "code",
   "execution_count": 70,
   "outputs": [],
   "source": [
    "N_list = []\n",
    "# eq9\n",
    "for t in range(num):\n",
    "    Nq_list = [[], [], [], []]\n",
    "    for i in range(num):\n",
    "        if dst(dot_mat[0][t], dot_mat[0][i], dot_mat[1][t], dot_mat[1][i]) <= rc:\n",
    "            flag = 0\n",
    "            if dot_mat[0][t] < dot_mat[0][i]:\n",
    "                if dot_mat[1][t] <= dot_mat[1][i]:\n",
    "                    flag = 0\n",
    "                else:\n",
    "                    flag = 3\n",
    "            else:\n",
    "                if dot_mat[1][t] <= dot_mat[1][i]:\n",
    "                    flag = 1\n",
    "                else:\n",
    "                    flag = 2\n",
    "            Nq_list[flag].append(np.array((dot_mat[1][t], dot_mat[1][i])))\n",
    "    N_list.append(Nq_list)\n",
    "# eq10\n",
    "N_hat_list = []\n",
    "for n in N_list:\n",
    "    Nq_hat_list = []\n",
    "    for m in n:\n",
    "        temp_list = []\n",
    "        temp_max = 0\n",
    "        for t in m:\n",
    "            if t[0] ** 2 + t[1] ** 2 > temp_max:\n",
    "                temp_max = t[0] ** 2 + t[1] ** 2\n",
    "        for t in m:\n",
    "            if -0.001 < t[0] ** 2 + t[1] ** 2 - temp_max < 0.001:\n",
    "                temp_list.append(t)\n",
    "        Nq_hat_list.append(temp_list)\n",
    "    N_hat_list.append(Nq_hat_list)\n",
    "#eq11\n",
    "Tq_mat = np.zeros((num, 5))\n",
    "for i, n in enumerate(N_hat_list):\n",
    "    n_sum = 0\n",
    "    for j, m in enumerate(n):\n",
    "        if len(m) == 0:\n",
    "            Tq_mat[i][j] = 0\n",
    "        else:\n",
    "            Tq_mat[i][j] = 1\n",
    "            n_sum += 1\n",
    "    Tq_mat[i][4] = n_sum\n",
    "#eq12\n",
    "Ni_hat_list = []\n",
    "for i, t in enumerate(Tq_mat):\n",
    "    Ni_hat_temp = []\n",
    "    if t[4] == 1:\n",
    "        for j in range(4):\n",
    "            if t[j] == 1:\n",
    "                num = len(N_hat_list[i][j])\n",
    "                index = np.random.randint(0, num)\n",
    "                Ni_hat_temp.append(N_hat_list[i][j][index])\n",
    "    if t[4] >= 3:\n",
    "        for j in range(4):\n",
    "            if t[j] == 1:\n",
    "                num = len(N_hat_list[i][j])\n",
    "                index = np.random.randint(0, num)\n",
    "                Ni_hat_temp.append(N_hat_list[i][j][index])\n",
    "\n",
    "    if t[4] == 2:\n",
    "        a_mat = t[:4] * np.array([1, -1, 1, -1])\n",
    "        if np.array_equal(a_mat, np.array([0, 0, 0, 0])):\n",
    "            flag = 0\n",
    "            for j in range(4):\n",
    "                if t[j] == 1:\n",
    "                    flag = j\n",
    "                    break\n",
    "            # 1,2\n",
    "            if flag == 0:\n",
    "                # 此处为了方便这样写，如果坐标大于100需要更改\n",
    "                x1 = np.array((100, 0))\n",
    "                x2 = np.array((100, 0))\n",
    "                for n in N_hat_list[i][0]:\n",
    "                    if n[0] < x1[0]: x1 = n\n",
    "                Ni_hat_temp.append(x1)\n",
    "                for n in N_hat_list[i][1]:\n",
    "                    if n[0] < x2[0]: x2 = n\n",
    "                Ni_hat_temp.append(x2)\n",
    "            # 2,3\n",
    "            if flag == 1:\n",
    "                x2 = np.array((0, 0))\n",
    "                x3 = np.array((0, 0))\n",
    "                for n in N_hat_list[i][1]:\n",
    "                    if n[0] > x2[0]: x2 = n\n",
    "                Ni_hat_temp.append(x2)\n",
    "                for n in N_hat_list[i][2]:\n",
    "                    if n[0] < x3[0]: x3 = n\n",
    "                Ni_hat_temp.append(x3)\n",
    "            # 3,4\n",
    "            if flag == 2:\n",
    "                x3 = np.array((-100, 0))\n",
    "                x4 = np.array((-100, 0))\n",
    "                for n in N_hat_list[i][2]:\n",
    "                    if n[0] > x3[0]: x3 = n\n",
    "                Ni_hat_temp.append(x3)\n",
    "                for n in N_hat_list[i][3]:\n",
    "                    if n[0] > x4[0]: x4 = n\n",
    "                Ni_hat_temp.append(x4)\n",
    "            # 4,1\n",
    "            if flag == 3:\n",
    "                x4 = np.array((0, 0))\n",
    "                x1 = np.array((0, 0))\n",
    "                for n in N_hat_list[i][3]:\n",
    "                    if n[0] < x4[0]: x4 = n\n",
    "                Ni_hat_temp.append(x4)\n",
    "                for n in N_hat_list[i][0]:\n",
    "                    if n[0] > x1[0]: x1 = n\n",
    "                Ni_hat_temp.append(x1)\n",
    "        else:\n",
    "            for j in range(4):\n",
    "                if t[j] == 1:\n",
    "                    num = len(N_hat_list[i][j])\n",
    "                    index = np.random.randint(0, num)\n",
    "                    Ni_hat_temp.append(N_hat_list[i][j][index])\n",
    "    Ni_hat_list.append(Ni_hat_temp)"
   ],
   "metadata": {
    "collapsed": false,
    "pycharm": {
     "name": "#%%\n"
    }
   }
  },
  {
   "cell_type": "markdown",
   "source": [],
   "metadata": {
    "collapsed": false
   }
  }
 ],
 "metadata": {
  "kernelspec": {
   "display_name": "Python 3",
   "language": "python",
   "name": "python3"
  },
  "language_info": {
   "codemirror_mode": {
    "name": "ipython",
    "version": 2
   },
   "file_extension": ".py",
   "mimetype": "text/x-python",
   "name": "python",
   "nbconvert_exporter": "python",
   "pygments_lexer": "ipython2",
   "version": "2.7.6"
  }
 },
 "nbformat": 4,
 "nbformat_minor": 0
}